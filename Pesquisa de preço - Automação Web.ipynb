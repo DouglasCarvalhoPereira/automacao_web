{
 "cells": [
  {
   "cell_type": "markdown",
   "id": "0f70c63c",
   "metadata": {},
   "source": [
    "# Solição para cotar e comparar preço de produtos na web\n",
    "\n",
    "- Pode ser agendado como um executável Python e Agendador de tarefas do Windows\n",
    "- Pode ser executando com um While True"
   ]
  },
  {
   "cell_type": "markdown",
   "id": "ba8af7e1",
   "metadata": {},
   "source": [
    "### Importando módulo e lista de produtos"
   ]
  },
  {
   "cell_type": "code",
   "execution_count": 108,
   "id": "2195507c",
   "metadata": {},
   "outputs": [
    {
     "data": {
      "text/html": [
       "<div>\n",
       "<style scoped>\n",
       "    .dataframe tbody tr th:only-of-type {\n",
       "        vertical-align: middle;\n",
       "    }\n",
       "\n",
       "    .dataframe tbody tr th {\n",
       "        vertical-align: top;\n",
       "    }\n",
       "\n",
       "    .dataframe thead th {\n",
       "        text-align: right;\n",
       "    }\n",
       "</style>\n",
       "<table border=\"1\" class=\"dataframe\">\n",
       "  <thead>\n",
       "    <tr style=\"text-align: right;\">\n",
       "      <th></th>\n",
       "      <th>Link Produto</th>\n",
       "      <th>Amazon</th>\n",
       "      <th>Lojas Americanas</th>\n",
       "      <th>Magazine Luiza</th>\n",
       "      <th>Preço Original</th>\n",
       "      <th>Preço Atual</th>\n",
       "    </tr>\n",
       "  </thead>\n",
       "  <tbody>\n",
       "    <tr>\n",
       "      <th>0</th>\n",
       "      <td>iPhone 11 Apple 64GB Preto</td>\n",
       "      <td>https://www.amazon.com.br/Iphone-Apple-Preto-1...</td>\n",
       "      <td>https://www.americanas.com.br/produto/16113180...</td>\n",
       "      <td>https://www.magazineluiza.com.br/iphone-11-app...</td>\n",
       "      <td>5297</td>\n",
       "      <td>-</td>\n",
       "    </tr>\n",
       "    <tr>\n",
       "      <th>1</th>\n",
       "      <td>iPhone 12 Apple 64GB Preto 6,1” 12MP iOS</td>\n",
       "      <td>https://www.amazon.com.br/Apple-iPhone-12-128-...</td>\n",
       "      <td>https://www.americanas.com.br/produto/35910240...</td>\n",
       "      <td>https://www.magazineluiza.com.br/iphone-12-min...</td>\n",
       "      <td>2900</td>\n",
       "      <td>-</td>\n",
       "    </tr>\n",
       "  </tbody>\n",
       "</table>\n",
       "</div>"
      ],
      "text/plain": [
       "                               Link Produto  \\\n",
       "0                iPhone 11 Apple 64GB Preto   \n",
       "1  iPhone 12 Apple 64GB Preto 6,1” 12MP iOS   \n",
       "\n",
       "                                              Amazon  \\\n",
       "0  https://www.amazon.com.br/Iphone-Apple-Preto-1...   \n",
       "1  https://www.amazon.com.br/Apple-iPhone-12-128-...   \n",
       "\n",
       "                                    Lojas Americanas  \\\n",
       "0  https://www.americanas.com.br/produto/16113180...   \n",
       "1  https://www.americanas.com.br/produto/35910240...   \n",
       "\n",
       "                                      Magazine Luiza  Preço Original  \\\n",
       "0  https://www.magazineluiza.com.br/iphone-11-app...            5297   \n",
       "1  https://www.magazineluiza.com.br/iphone-12-min...            2900   \n",
       "\n",
       "  Preço Atual  \n",
       "0           -  \n",
       "1           -  "
      ]
     },
     "metadata": {},
     "output_type": "display_data"
    }
   ],
   "source": [
    "import pandas as pd\n",
    "from selenium import webdriver\n",
    "import re\n",
    "import time\n",
    "import yagmail\n",
    "\n",
    "\n",
    "produto = pd.read_excel('Produtos.xlsx').fillna('-')\n",
    "display(produto)\n"
   ]
  },
  {
   "cell_type": "code",
   "execution_count": 109,
   "id": "a59d6976",
   "metadata": {},
   "outputs": [],
   "source": [
    "def tratar_texto(texto):\n",
    "     return float(re.sub(r'[A-Z$\\.]','', texto).replace(',','.'))"
   ]
  },
  {
   "cell_type": "code",
   "execution_count": 110,
   "id": "e0b9dae8",
   "metadata": {},
   "outputs": [
    {
     "name": "stderr",
     "output_type": "stream",
     "text": [
      "C:\\Users\\dougl\\AppData\\Local\\Temp/ipykernel_2116/1368604841.py:16: DeprecationWarning: find_element_by_* commands are deprecated. Please use find_element() instead\n",
      "  preco_amazon = driver.find_element_by_css_selector('span.apexPriceToPay').text\n",
      "C:\\Users\\dougl\\AppData\\Local\\Temp/ipykernel_2116/1368604841.py:26: DeprecationWarning: find_element_by_* commands are deprecated. Please use find_element() instead\n",
      "  preco_americanas = driver.find_element_by_css_selector('div.priceSales').text\n",
      "C:\\Users\\dougl\\AppData\\Local\\Temp/ipykernel_2116/1368604841.py:36: DeprecationWarning: find_element_by_* commands are deprecated. Please use find_element() instead\n",
      "  preco_magalu = driver.find_element_by_css_selector('span.price-template__text').text\n"
     ]
    },
    {
     "name": "stdout",
     "output_type": "stream",
     "text": [
      "Produto iPhone 12 Apple 64GB Preto 6,1” 12MP iOS não encontrado\n"
     ]
    }
   ],
   "source": [
    "#Desloca a tela\n",
    "#options = webdriver.ChromeOptions()\n",
    "#options.add_argument('--headless')\n",
    "#driver = webdriver.Chrome(options=options)\n",
    "\n",
    "driver = webdriver.Chrome()\n",
    "\n",
    "enviar_email = False\n",
    "desconto_min = 0.1\n",
    "\n",
    "for i, linha in produto.iterrows():\n",
    "    \n",
    "    driver.get(linha['Amazon'])\n",
    "    try:\n",
    "        preco_amazon = driver.find_element_by_css_selector('span.apexPriceToPay').text\n",
    "        preco_amazon = tratar_texto(preco_amazon)\n",
    "    except:\n",
    "        print('Produto {} não encontrado'.format(linha['Link Produto']))\n",
    "        preco_amazon = linha['Preço Original'] * 3   \n",
    "    time.sleep(1)\n",
    "\n",
    "    #Entrar no site da L Americanas\n",
    "    driver.get(linha['Lojas Americanas'])\n",
    "    try:\n",
    "        preco_americanas = driver.find_element_by_css_selector('div.priceSales').text\n",
    "        preco_americanas = tratar_texto(preco_americanas)\n",
    "    except:\n",
    "        print('Produto {} não encontrado'.format(linha['Link Produto']))\n",
    "        preco_americanas = linha['Preço Original'] * 3   \n",
    "    time.sleep(1)\n",
    "\n",
    "    #Pegar o preco da MGLU\n",
    "    driver.get(linha['Magazine Luiza'])\n",
    "    try:     \n",
    "        preco_magalu = driver.find_element_by_css_selector('span.price-template__text').text\n",
    "        preco_magalu = tratar_texto(preco_magalu)\n",
    "    except:\n",
    "        print('Produto {} não encontrado'.format(linha['Link Produto']))\n",
    "        preco_magalu = linha['Preço Original'] * 3   \n",
    "    time.sleep(1)\n",
    "    \n",
    "    preco_original = linha['Preço Original']\n",
    "    lista_precos = [(preco_amazon, 'Amazon'),(preco_americanas, 'Lojas Americanas'),(preco_magalu, 'Magazine Luiza'),(preco_original, 'Preço Original')]\n",
    "    lista_precos.sort()\n",
    "    \n",
    "    #Preenche linha com preço e nome do local na planilha\n",
    "    produto.loc[i, 'Preço Atual'] = lista_precos[0][0]\n",
    "    produto.loc[i, 'Local'] = lista_precos[0][1]\n",
    "    \n",
    "    if lista_precos[0][0] <= preco_original * (1-desconto_min):\n",
    "        enviar_email = True\n",
    "        \n",
    "#SALVAR ARQUIVO\n",
    "produto.to_excel('Produtos.xlsx')"
   ]
  },
  {
   "cell_type": "code",
   "execution_count": 111,
   "id": "ed958253",
   "metadata": {},
   "outputs": [],
   "source": [
    "usuario = yagmail.SMTP(user='douglasmarketingbr@gmail.com', password='Bilhao50')\n",
    "if enviar_email:\n",
    "    #ENVIAR EMAIL\n",
    "    destinatario = 'carvalhodouglaspereira@gmail.com'\n",
    "    assunto = f'Produto(s) com mais de {desconto_min:.0%} de desconto'\n",
    "    #filtrar tabela\n",
    "    tabela_filtrada = produto.loc[produto['Preço Atual'] <= produto['Preço Original']*(1-desconto_min), :]\n",
    "    conteudo = f\"\"\"\n",
    "\n",
    "    <p>Esses são os produtos com mais de {desconto_min:.0%} de desconto</p>\n",
    "    {tabela_filtrada.to_html()}\n",
    "\n",
    "    \"\"\"\n",
    "    usuario.send(to=destinatario, subject=assunto, contents=conteudo)\n",
    "    \n",
    "driver.quit()"
   ]
  }
 ],
 "metadata": {
  "kernelspec": {
   "display_name": "Python 3 (ipykernel)",
   "language": "python",
   "name": "python3"
  },
  "language_info": {
   "codemirror_mode": {
    "name": "ipython",
    "version": 3
   },
   "file_extension": ".py",
   "mimetype": "text/x-python",
   "name": "python",
   "nbconvert_exporter": "python",
   "pygments_lexer": "ipython3",
   "version": "3.8.12"
  }
 },
 "nbformat": 4,
 "nbformat_minor": 5
}
