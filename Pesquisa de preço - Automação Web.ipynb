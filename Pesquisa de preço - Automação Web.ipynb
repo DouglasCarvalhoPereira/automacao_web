{
 "cells": [
  {
   "cell_type": "markdown",
   "id": "0f70c63c",
   "metadata": {},
   "source": [
    "# Solição para cotar e comparar preço de produtos na web"
   ]
  },
  {
   "cell_type": "markdown",
   "id": "ba8af7e1",
   "metadata": {},
   "source": [
    "### Importando módulo e lista de produtos"
   ]
  },
  {
   "cell_type": "code",
   "execution_count": 40,
   "id": "2195507c",
   "metadata": {},
   "outputs": [
    {
     "data": {
      "text/html": [
       "<div>\n",
       "<style scoped>\n",
       "    .dataframe tbody tr th:only-of-type {\n",
       "        vertical-align: middle;\n",
       "    }\n",
       "\n",
       "    .dataframe tbody tr th {\n",
       "        vertical-align: top;\n",
       "    }\n",
       "\n",
       "    .dataframe thead th {\n",
       "        text-align: right;\n",
       "    }\n",
       "</style>\n",
       "<table border=\"1\" class=\"dataframe\">\n",
       "  <thead>\n",
       "    <tr style=\"text-align: right;\">\n",
       "      <th></th>\n",
       "      <th>Link Produto</th>\n",
       "      <th>Amazon</th>\n",
       "      <th>Lojas Americanas</th>\n",
       "      <th>Magazine Luiza</th>\n",
       "      <th>Preço Original</th>\n",
       "      <th>Preço Atual</th>\n",
       "      <th>Local</th>\n",
       "    </tr>\n",
       "  </thead>\n",
       "  <tbody>\n",
       "    <tr>\n",
       "      <th>0</th>\n",
       "      <td>iPhone 11 Apple 64GB Preto</td>\n",
       "      <td>https://www.amazon.com.br/IPHONE-11-PRETO-TELA...</td>\n",
       "      <td>https://www.americanas.com.br/produto/16113159...</td>\n",
       "      <td>https://www.magazineluiza.com.br/iphone-11-app...</td>\n",
       "      <td>5297</td>\n",
       "      <td>-</td>\n",
       "      <td>-</td>\n",
       "    </tr>\n",
       "    <tr>\n",
       "      <th>1</th>\n",
       "      <td>Smart TV LED 50'' LG Ultra HD 4K Thinq AI</td>\n",
       "      <td>https://www.amazon.com.br/Smart-LG-Intelig%C3%...</td>\n",
       "      <td>https://www.americanas.com.br/produto/49516150...</td>\n",
       "      <td>https://www.magazineluiza.com.br/smart-tv-uhd-...</td>\n",
       "      <td>2900</td>\n",
       "      <td>-</td>\n",
       "      <td>-</td>\n",
       "    </tr>\n",
       "  </tbody>\n",
       "</table>\n",
       "</div>"
      ],
      "text/plain": [
       "                                Link Produto  \\\n",
       "0                 iPhone 11 Apple 64GB Preto   \n",
       "1  Smart TV LED 50'' LG Ultra HD 4K Thinq AI   \n",
       "\n",
       "                                              Amazon  \\\n",
       "0  https://www.amazon.com.br/IPHONE-11-PRETO-TELA...   \n",
       "1  https://www.amazon.com.br/Smart-LG-Intelig%C3%...   \n",
       "\n",
       "                                    Lojas Americanas  \\\n",
       "0  https://www.americanas.com.br/produto/16113159...   \n",
       "1  https://www.americanas.com.br/produto/49516150...   \n",
       "\n",
       "                                      Magazine Luiza  Preço Original  \\\n",
       "0  https://www.magazineluiza.com.br/iphone-11-app...            5297   \n",
       "1  https://www.magazineluiza.com.br/smart-tv-uhd-...            2900   \n",
       "\n",
       "  Preço Atual Local  \n",
       "0           -     -  \n",
       "1           -     -  "
      ]
     },
     "metadata": {},
     "output_type": "display_data"
    }
   ],
   "source": [
    "import pandas as pd\n",
    "from selenium import webdriver\n",
    "import re\n",
    "\n",
    "produto = pd.read_excel('Produtos.xlsx').fillna('-')\n",
    "display(produto)\n"
   ]
  },
  {
   "cell_type": "code",
   "execution_count": 109,
   "id": "e0b9dae8",
   "metadata": {},
   "outputs": [
    {
     "name": "stdout",
     "output_type": "stream",
     "text": [
      "2636.1\n"
     ]
    },
    {
     "name": "stderr",
     "output_type": "stream",
     "text": [
      "C:\\Users\\dougl\\AppData\\Local\\Temp/ipykernel_11416/4204344012.py:5: DeprecationWarning: find_element_by_* commands are deprecated. Please use find_element() instead\n",
      "  preco_amazon = driver.find_element_by_css_selector('span.apexPriceToPay').text\n"
     ]
    }
   ],
   "source": [
    "#Entrar no site da Amazon\n",
    "driver = webdriver.Chrome()\n",
    "driver.get('https://www.amazon.com.br/LG-50UN731C-Assistente-Virtual-Bluetooth/dp/B08FJCW8H3/ref=dp_prsubs_1?pd_rd_i=B08FJCW8H3&th=1')\n",
    "#Descobrir o objeto onde está o preç\n",
    "preco_amazon = driver.find_element_by_css_selector('span.apexPriceToPay').text\n",
    "preco_amazon = float(re.sub(r'[A-Z$\\.]','', preco_amazon).replace(',','.'))\n",
    "print(preco_amazon)\n",
    "#Armazenar o preço em uma variável\n"
   ]
  },
  {
   "cell_type": "code",
   "execution_count": 107,
   "id": "b55e8d6d",
   "metadata": {},
   "outputs": [
    {
     "name": "stdout",
     "output_type": "stream",
     "text": [
      "2636.10\n"
     ]
    }
   ],
   "source": []
  },
  {
   "cell_type": "code",
   "execution_count": 35,
   "id": "f89bc289",
   "metadata": {},
   "outputs": [
    {
     "name": "stdout",
     "output_type": "stream",
     "text": [
      "<class 'float'>\n"
     ]
    }
   ],
   "source": []
  }
 ],
 "metadata": {
  "kernelspec": {
   "display_name": "Python 3 (ipykernel)",
   "language": "python",
   "name": "python3"
  },
  "language_info": {
   "codemirror_mode": {
    "name": "ipython",
    "version": 3
   },
   "file_extension": ".py",
   "mimetype": "text/x-python",
   "name": "python",
   "nbconvert_exporter": "python",
   "pygments_lexer": "ipython3",
   "version": "3.8.12"
  }
 },
 "nbformat": 4,
 "nbformat_minor": 5
}
